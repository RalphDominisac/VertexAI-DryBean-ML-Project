{
 "cells": [
  {
   "cell_type": "code",
   "execution_count": 2,
   "metadata": {
    "tags": []
   },
   "outputs": [
    {
     "name": "stdout",
     "output_type": "stream",
     "text": [
      "Exporting Model model: projects/58311848027/locations/us-central1/models/1469172934592430080\n",
      "Export Model model backing LRO: projects/58311848027/locations/us-central1/models/1469172934592430080/operations/7361777801671737344\n",
      "Model model exported. Resource name: projects/58311848027/locations/us-central1/models/1469172934592430080\n"
     ]
    },
    {
     "data": {
      "text/plain": [
       "{'artifactOutputUri': 'gs://vertex-bucket-281/exported_model/model-1469172934592430080/tf-saved-model/2025-02-01T14:22:21.946024Z'}"
      ]
     },
     "execution_count": 2,
     "metadata": {},
     "output_type": "execute_result"
    }
   ],
   "source": [
    "from google.cloud import aiplatform\n",
    "\n",
    "# Initialize the model object with the model ID\n",
    "model = aiplatform.Model(\n",
    "    model_name=\"1469172934592430080\",  # Your model ID\n",
    "    location=\"us-central1\",\n",
    "    project=\"vertex-ai-initial-project\",\n",
    ")\n",
    "\n",
    "# Export the model\n",
    "model.export_model(\n",
    "    export_format_id=\"tf-saved-model\",  # Change if you need a different format\n",
    "    artifact_destination=\"gs://vertex-bucket-281/exported_model/\",\n",
    ")\n"
   ]
  },
  {
   "cell_type": "code",
   "execution_count": 4,
   "metadata": {
    "tags": []
   },
   "outputs": [
    {
     "name": "stdout",
     "output_type": "stream",
     "text": [
      "gs://vertex-bucket-281/exported_model/model-1469172934592430080/\n"
     ]
    }
   ],
   "source": [
    "!gsutil ls gs://vertex-bucket-281/exported_model/"
   ]
  },
  {
   "cell_type": "code",
   "execution_count": 6,
   "metadata": {
    "tags": []
   },
   "outputs": [
    {
     "name": "stdout",
     "output_type": "stream",
     "text": [
      "CommandException: Destination URL must name a directory, bucket, or bucket\n",
      "subdirectory for the multiple source form of the cp command.\n"
     ]
    }
   ],
   "source": [
    "# Download and save the model locally in your machine\n",
    "!gsutil cp -r gs://vertex-bucket-281/exported_model/ ./download_dir"
   ]
  },
  {
   "cell_type": "code",
   "execution_count": null,
   "metadata": {},
   "outputs": [],
   "source": []
  }
 ],
 "metadata": {
  "colab": {
   "collapsed_sections": [],
   "name": "notebook_template.ipynb",
   "toc_visible": true
  },
  "environment": {
   "kernel": "conda-base-py",
   "name": "workbench-notebooks.m127",
   "type": "gcloud",
   "uri": "us-docker.pkg.dev/deeplearning-platform-release/gcr.io/workbench-notebooks:m127"
  },
  "kernelspec": {
   "display_name": "Python 3 (ipykernel) (Local)",
   "language": "python",
   "name": "conda-base-py"
  },
  "language_info": {
   "codemirror_mode": {
    "name": "ipython",
    "version": 3
   },
   "file_extension": ".py",
   "mimetype": "text/x-python",
   "name": "python",
   "nbconvert_exporter": "python",
   "pygments_lexer": "ipython3",
   "version": "3.10.16"
  }
 },
 "nbformat": 4,
 "nbformat_minor": 4
}
